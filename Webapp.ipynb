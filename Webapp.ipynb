{
  "nbformat": 4,
  "nbformat_minor": 0,
  "metadata": {
    "colab": {
      "name": "Webapp.ipynb",
      "provenance": [],
      "collapsed_sections": [],
      "toc_visible": true,
      "authorship_tag": "ABX9TyNVKoU1FGmVaBY3MADhi7l3",
      "include_colab_link": true
    },
    "kernelspec": {
      "name": "python3",
      "display_name": "Python 3"
    },
    "accelerator": "GPU"
  },
  "cells": [
    {
      "cell_type": "markdown",
      "metadata": {
        "id": "view-in-github",
        "colab_type": "text"
      },
      "source": [
        "<a href=\"https://colab.research.google.com/github/SurendraRedd/Bestpractises/blob/master/Webapp.ipynb\" target=\"_parent\"><img src=\"https://colab.research.google.com/assets/colab-badge.svg\" alt=\"Open In Colab\"/></a>"
      ]
    },
    {
      "cell_type": "markdown",
      "metadata": {
        "id": "B0uTiou9wRiN",
        "colab_type": "text"
      },
      "source": [
        "# Deploy the webapplication(streamlit) using google colab and ngrok (instead of running in local machine)\n",
        "#### **Prerequisite**: \n",
        "- Ngrok account need to be created. Refer the url https://ngrok.com/\n",
        "- Google Colaboratory account should also be available. Refer the url https://colab.research.google.com/\n",
        "\n",
        "#### **Packages**:\n",
        "- streamlit - pip install streamlit\n",
        "- pyngrok - pip install pyngrok\n",
        "\n",
        "#### **Notes**\n",
        "- use %%writefile filename to write data in to the cell.\n",
        "- !ngrok in the cell - displays the options available in ngrok\n",
        "- !ngrok authtoken yourtoken from the section ***2.Connect your account*** @https://dashboard.ngrok.com/get-started/setup - Setup & Installation.\n",
        "- https://dashboard.ngrok.com/auth/your-authtoken - Displays the token value.\n",
        "\n",
        "#### **Trouble shoot**\n",
        "- **Issue1: PyngrokNgrokHTTPError:** ngrok client exception, API returned 502: {\"error_code\":103,\"status_code\":502,\"msg\":\"failed to start tunnel\",\"details\":{\"err\":\"Your account may not run more than 4 tunnels over a single ngrok client session\n",
        "-**Solution**: !kill processid of the app. Eg:- !kill 1234\n",
        "- **Tip**: To check the tunnels running for your account in ngrok\n",
        "-**Solution**: https://dashboard.ngrok.com/status/tunnels\n",
        "\n",
        "#### **Notes**\n",
        "- If you would like to modify the content of the script then modify the script and re-run the cell so that latest contents will be available and go to the url and check that \n",
        "\n",
        "#### **Alternatives for deploying the streamlit App**\n",
        "- Heroku\n",
        "- AWS\n",
        "- GCP\n",
        "\n",
        "#### **Alternatives to Streamlit Package**\n",
        "- Jupyter-dash\n",
        "- bokeh\n",
        "- plotify"
      ]
    },
    {
      "cell_type": "code",
      "metadata": {
        "id": "W5dZsCdhw0ew",
        "colab_type": "code",
        "colab": {}
      },
      "source": [
        "!pip install streamlit"
      ],
      "execution_count": null,
      "outputs": []
    },
    {
      "cell_type": "code",
      "metadata": {
        "id": "lgYUrv0HbTmx",
        "colab_type": "code",
        "colab": {}
      },
      "source": [
        "!pip install pyngrok"
      ],
      "execution_count": null,
      "outputs": []
    },
    {
      "cell_type": "code",
      "metadata": {
        "id": "bWRm8_U0zyOL",
        "colab_type": "code",
        "colab": {
          "base_uri": "https://localhost:8080/",
          "height": 34
        },
        "outputId": "6884a7ab-3ba2-4e39-cc25-81043c4d8d9d"
      },
      "source": [
        "%%writefile app.py\n",
        "import streamlit as st\n",
        "import urllib.request\n",
        "from PIL import Image\n",
        "import time\n",
        "\n",
        "Navigation = {\"page_title\":\"Streamlitweb.io\",\"page_icon\":\":smiley:\",\"layout\":\"centered\"}\n",
        "st.beta_set_page_config(**Navigation)\n",
        "\n",
        "def videoUserDefined(src: str, width=\"100%\", height=315):\n",
        "    \"\"\"An extension of the video widget\n",
        "    Arguments:\n",
        "        src {str} -- url of the video Eg:- https://www.youtube.com/embed/B2iAodr0fOo\n",
        "    Keyword Arguments:\n",
        "        width {str} -- video width(By default: {\"100%\"})\n",
        "        height {int} -- video height (By default: {315})\n",
        "    \"\"\"\n",
        "    st.write(\n",
        "        f'<iframe width=\"{width}\" height=\"{height}\" src=\"{src}\" frameborder=\"0\" allow=\"accelerometer; autoplay; encrypted-media; gyroscope; picture-in-picture\" allowfullscreen></iframe>',\n",
        "        unsafe_allow_html=True,\n",
        "    )\n",
        " \n",
        "def main():\n",
        "    st.title(\"Web Application in streamlit.\")\n",
        "    st.subheader(\"Application is created using google colab & ngrok\")\n",
        "    menu = [\"Home\",\"About\"]\n",
        "    choice = st.sidebar.selectbox('Select the option',menu)\n",
        "    if choice == 'Home':\n",
        "        st.subheader(\"Streamlit application created using Colab & ngrok\")\n",
        "    if choice == 'About':\n",
        "        st.subheader(\"WebApplication-1.0\")\n",
        "\n",
        "    #Image opening\n",
        "    #img = Image.open(\"download.jfif\") #open the image stored in specified location\n",
        "    img = Image.open(urllib.request.urlopen(\"https://mms.businesswire.com/media/20200616005364/en/798639/22/Streamlit_Logo_%281%29.jpg\")) # Opens the image from the url\n",
        "    st.image(img, width=300, caption=\"Simple Image\")\n",
        "\n",
        "    # Video playing\n",
        "    #vid_file = open(\"sample-mp4-file.mp4\",\"rb\").read() #play the video stored in specified location\n",
        "    #st.video(vid_file)\n",
        "    videoUserDefined(\"https://www.youtube.com/embed/B2iAodr0fOo\")\n",
        "\n",
        "    #widgets\n",
        "    if st.checkbox(\"Show/hide\"):\n",
        "        st.text(\"Showing or Hiding Widget\")\n",
        "\n",
        "    # Radio\n",
        "    status = st.radio(\"What is your status\",(\"Married\",\"Single\"))\n",
        "    if status == 'Married':\n",
        "      st.success(\"You are Married\")\n",
        "    else:\n",
        "      st.info(\"You are single\")\n",
        "\n",
        " \n",
        "if __name__ == '__main__':\n",
        "    main()"
      ],
      "execution_count": null,
      "outputs": [
        {
          "output_type": "stream",
          "text": [
            "Overwriting app.py\n"
          ],
          "name": "stdout"
        }
      ]
    },
    {
      "cell_type": "code",
      "metadata": {
        "id": "psoiZ2l-1tYr",
        "colab_type": "code",
        "colab": {
          "base_uri": "https://localhost:8080/",
          "height": 32
        },
        "outputId": "f80737c5-00a9-440e-e79c-d0daa7116d8d"
      },
      "source": [
        "#Displays the list of files in current directory\n",
        "!ls"
      ],
      "execution_count": null,
      "outputs": [
        {
          "output_type": "stream",
          "text": [
            "app.py\tsample_data\n"
          ],
          "name": "stdout"
        }
      ]
    },
    {
      "cell_type": "code",
      "metadata": {
        "id": "tR9TmSDT3N7z",
        "colab_type": "code",
        "colab": {}
      },
      "source": [
        "!ngrok"
      ],
      "execution_count": null,
      "outputs": []
    },
    {
      "cell_type": "code",
      "metadata": {
        "id": "Vzt__pIe3Yu_",
        "colab_type": "code",
        "colab": {
          "base_uri": "https://localhost:8080/",
          "height": 34
        },
        "outputId": "9d12117d-a62b-416f-9344-265799e8be77"
      },
      "source": [
        "!ngrok authtoken xxxxx"
      ],
      "execution_count": null,
      "outputs": [
        {
          "output_type": "stream",
          "text": [
            "Authtoken saved to configuration file: /root/.ngrok2/ngrok.yml\n"
          ],
          "name": "stdout"
        }
      ]
    },
    {
      "cell_type": "code",
      "metadata": {
        "id": "P43georj3qXn",
        "colab_type": "code",
        "colab": {}
      },
      "source": [
        "from pyngrok import ngrok"
      ],
      "execution_count": null,
      "outputs": []
    },
    {
      "cell_type": "code",
      "metadata": {
        "id": "-Zb63S9h4GX2",
        "colab_type": "code",
        "colab": {}
      },
      "source": [
        "# To run streamlit in background - Linux Command\n",
        "!streamlit run app.py &>/dev/null&"
      ],
      "execution_count": null,
      "outputs": []
    },
    {
      "cell_type": "code",
      "metadata": {
        "id": "jtU-gHk84rRd",
        "colab_type": "code",
        "colab": {
          "base_uri": "https://localhost:8080/",
          "height": 34
        },
        "outputId": "e8f66fc4-9371-4ee3-a8a9-dfa2db662082"
      },
      "source": [
        "# to check streamlit is running or not in linux machine you can check the command below\n",
        "!pgrep streamlit"
      ],
      "execution_count": null,
      "outputs": [
        {
          "output_type": "stream",
          "text": [
            "213\n"
          ],
          "name": "stdout"
        }
      ]
    },
    {
      "cell_type": "code",
      "metadata": {
        "id": "e3Gy6ICc3xKU",
        "colab_type": "code",
        "colab": {}
      },
      "source": [
        "# To configure the port in ngrok\n",
        "publ_url = ngrok.connect(port='8501')"
      ],
      "execution_count": null,
      "outputs": []
    },
    {
      "cell_type": "code",
      "metadata": {
        "id": "VjRBP6-n6h-j",
        "colab_type": "code",
        "colab": {
          "base_uri": "https://localhost:8080/",
          "height": 35
        },
        "outputId": "f9ebc76a-3ff7-4ce6-d197-b710c32d30fc"
      },
      "source": [
        "publ_url"
      ],
      "execution_count": null,
      "outputs": [
        {
          "output_type": "execute_result",
          "data": {
            "application/vnd.google.colaboratory.intrinsic+json": {
              "type": "string"
            },
            "text/plain": [
              "'http://44cf5deef4f8.ngrok.io'"
            ]
          },
          "metadata": {
            "tags": []
          },
          "execution_count": 10
        }
      ]
    },
    {
      "cell_type": "code",
      "metadata": {
        "id": "oc-5AOU05fBU",
        "colab_type": "code",
        "colab": {}
      },
      "source": [
        "!kill 624"
      ],
      "execution_count": null,
      "outputs": []
    }
  ]
}